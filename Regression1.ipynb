{
 "cells": [
  {
   "cell_type": "markdown",
   "id": "a7f654fa-3fd8-4e10-843d-ea6a84af50d0",
   "metadata": {},
   "source": [
    "# Q1.\n",
    "### Explain the difference between simple linear regression and multiple linear regression. Provide an example of each."
   ]
  },
  {
   "cell_type": "markdown",
   "id": "7f10bc1a-099d-4e7a-884e-94c57cbfc463",
   "metadata": {},
   "source": [
    "- Simple Linear Regression :\n",
    "    - It involves predicting a dependent variable using only one independent variable. The relationship is represented by a straight line.\n",
    "        \n",
    "    - Example : Predicting a student's score (y) based on the number of hours they studied (x).\n",
    "    \n",
    "- Multiple Linear Regression : \n",
    "    - It involves predicting a dependent variable using two or more independent variables. The relationship is represented by a hyperplane.\n",
    "    \n",
    "    - Predicting house price (y) based on variables like square footage (x1), number of bedrooms (x2), and location (x3)."
   ]
  },
  {
   "cell_type": "markdown",
   "id": "d385d7b4-4ccd-4e0f-9e21-a28112401819",
   "metadata": {},
   "source": [
    "# Q2.\n",
    "### Discuss the assumptions of linear regression. How can you check whether these assumptions hold in a given dataset?"
   ]
  },
  {
   "cell_type": "markdown",
   "id": "ee727c9b-6138-426f-ba57-3a434d6fb5f6",
   "metadata": {},
   "source": [
    "- Linearity , Independence and Normality of Residuals. To check these assumptions , you can use residual plots , normal probability plots , and statistical tests for normality."
   ]
  },
  {
   "cell_type": "markdown",
   "id": "fc84bb60-ffd9-4c95-b7be-d59fca25d7ce",
   "metadata": {},
   "source": [
    "# Q3.\n",
    "### How do you interpret the slope and intercept in a linear regression model? Provide an example using a real-world scenario."
   ]
  },
  {
   "cell_type": "markdown",
   "id": "72051297-789c-41d1-b387-339049e5298c",
   "metadata": {},
   "source": [
    "- Slope :  It represents the change in the dependent variable for a one-unit change in the independent variable. \n",
    "\n",
    "- Intercept : It represents the predicted value of the dependent variable when all independent variables are zero.\n",
    "\n",
    "Example : \n",
    "    -  In a salary prediction model, the slope for years of experience might be 2000, indicating that for each additional year of experience, the salary is expected to increase by 2000INR. The intercept might be 30,000INR, representing the expected salary for someone with zero years of experience."
   ]
  },
  {
   "cell_type": "markdown",
   "id": "df1ac5b9-17f0-4932-a402-bc4f7e41bb65",
   "metadata": {},
   "source": [
    "# Q4.\n",
    "### Explain the concept of gradient descent. How is it used in machine learning?"
   ]
  },
  {
   "cell_type": "markdown",
   "id": "f2c30f1f-139c-4d22-94e9-9c862510f4df",
   "metadata": {},
   "source": [
    "- It's an optimization algorithm used to minimize the cost function in machine learning models. It iteratively adjusts the model parameters in the direction of steepest descent to find the minimum of the cost function."
   ]
  },
  {
   "cell_type": "markdown",
   "id": "71658dec-4979-4ee4-88af-42d1e338cfc5",
   "metadata": {},
   "source": [
    "# Q5.\n",
    "### Describe the multiple linear regression model. How does it differ from simple linear regression?"
   ]
  },
  {
   "cell_type": "markdown",
   "id": "91067d4b-af92-47e8-93c0-70c93e22db0d",
   "metadata": {},
   "source": [
    "- It extends simple linear regression to include multiple independent variables."
   ]
  },
  {
   "cell_type": "markdown",
   "id": "6a5fa7a4-7dac-46dd-8206-feec75e4a56d",
   "metadata": {},
   "source": [
    "# Q6.\n",
    "### Explain the concept of multicollinearity in multiple linear regression. How can you detect and address this issue?"
   ]
  },
  {
   "cell_type": "markdown",
   "id": "4d3b643f-8251-4663-814a-1e55131dbbea",
   "metadata": {},
   "source": [
    "- It occurs when independent variables in a multiple regression model are highly correlated. It can be detected using variance inflation factor (VIF) or correlation matrices. Addressing it may involve removing correlated variables or using techniques like principal component analysis."
   ]
  },
  {
   "cell_type": "markdown",
   "id": "d238314e-9758-493a-a904-f7c8cfde6440",
   "metadata": {},
   "source": [
    "# Q7.\n",
    "### Describe the polynomial regression model. How is it different from linear regression?"
   ]
  },
  {
   "cell_type": "markdown",
   "id": "0c1c7ee2-9c9d-4603-87c3-0579767faef4",
   "metadata": {},
   "source": [
    "- It's a type of regression that allows the relationship between the independent and dependent variables to be modeled as an nth-degree polynomial."
   ]
  },
  {
   "cell_type": "markdown",
   "id": "214f382e-f99a-4d50-92f6-f5f7efd548bc",
   "metadata": {},
   "source": [
    "# Q8.\n",
    "### What are the advantages and disadvantages of polynomial regression compared to linear regression? In what situations would you prefer to use polynomial regression?"
   ]
  },
  {
   "cell_type": "markdown",
   "id": "8649dfdd-4f03-4199-92d1-523859058388",
   "metadata": {},
   "source": [
    "- Advantages: Can capture more complex relationships, flexible modeling.\n",
    "- Disadvantages: Prone to overfitting, may not generalize well to new data. It's preferred in situations where the relationship is nonlinear and cannot be adequately captured by a linear model."
   ]
  }
 ],
 "metadata": {
  "kernelspec": {
   "display_name": "Python 3 (ipykernel)",
   "language": "python",
   "name": "python3"
  },
  "language_info": {
   "codemirror_mode": {
    "name": "ipython",
    "version": 3
   },
   "file_extension": ".py",
   "mimetype": "text/x-python",
   "name": "python",
   "nbconvert_exporter": "python",
   "pygments_lexer": "ipython3",
   "version": "3.10.8"
  }
 },
 "nbformat": 4,
 "nbformat_minor": 5
}
